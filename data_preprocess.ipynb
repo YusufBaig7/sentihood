{
  "nbformat": 4,
  "nbformat_minor": 0,
  "metadata": {
    "colab": {
      "name": "data_preprocess.ipynb",
      "provenance": []
    },
    "kernelspec": {
      "name": "python3",
      "display_name": "Python 3"
    },
    "language_info": {
      "name": "python"
    }
  },
  "cells": [
    {
      "cell_type": "code",
      "execution_count": null,
      "metadata": {
        "id": "uL39PDW5BBm1"
      },
      "outputs": [],
      "source": [
        "from google.colab import drive\n",
        "drive.mount('/content/drive')"
      ]
    },
    {
      "cell_type": "code",
      "source": [
        "def preprocess(input_json, path):\n",
        "  locations = list(location_set)\n",
        "  aspects = list(aspect_set)\n",
        "  for location in locations:\n",
        "    for aspect in aspects:\n",
        "      df = pd.DataFrame({'id': [], 'text': [], 'sentiment': []})\n",
        "      i = 0\n",
        "      for example in training_json:\n",
        "          id = str(int(example['id']))\n",
        "          text = example['text'].strip()\n",
        "            \n",
        "            # If location is present in the text, only then iterate over the  \n",
        "            # list of opinions to find suitable `location-aspect` datapoints.\n",
        "\n",
        "          if location in text:\n",
        "              temp = False\n",
        "                \n",
        "              for opinion in example['opinions']:\n",
        "                    # Checking if the current example contains a sentiment\n",
        "                    # related to `location-aspect`\n",
        "                    \n",
        "                  if opinion['target_entity'] == location and opinion['aspect'] == aspect:\n",
        "                      df.loc[i] = [id, text, opinion['sentiment']]\n",
        "                      temp = True\n",
        "                      i += 1\n",
        "                      break\n",
        "                \n",
        "                # If no sentiment is found for `location-aspect` in current \n",
        "                # example, then add a datapoint with None.\n",
        "                \n",
        "              if temp == False:\n",
        "                  df.loc[i] = [id, text, 'N']\n",
        "                  i += 1\n",
        "\n",
        "      df.to_csv(path + str(location)+ '_' + str(aspect) + '.csv', index=False)"
      ],
      "metadata": {
        "id": "mjJMsNIrBFHr"
      },
      "execution_count": null,
      "outputs": []
    },
    {
      "cell_type": "code",
      "source": [
        "import json\n",
        "import pandas as pd"
      ],
      "metadata": {
        "id": "eKyULcVrBG-_"
      },
      "execution_count": null,
      "outputs": []
    },
    {
      "cell_type": "code",
      "source": [
        "with open('/content/drive/MyDrive/dataset/sentihood-train.json', 'r') as f:\n",
        "    training_json = json.load(f)"
      ],
      "metadata": {
        "id": "ts-6lrWCBJpD"
      },
      "execution_count": null,
      "outputs": []
    },
    {
      "cell_type": "code",
      "source": [
        "aspect_set = set()\n",
        "location_set = set()\n",
        "for tot in training_json:\n",
        "  for item in tot['opinions']:\n",
        "    aspect_set.add(item['aspect'])\n",
        "    location_set.add(item['target_entity'])"
      ],
      "metadata": {
        "id": "OcD3OWYBBK41"
      },
      "execution_count": null,
      "outputs": []
    },
    {
      "cell_type": "code",
      "source": [
        "print(list(aspect_set))\n",
        "print(list(location_set))"
      ],
      "metadata": {
        "id": "uAwTz9RVBMaW"
      },
      "execution_count": null,
      "outputs": []
    },
    {
      "cell_type": "code",
      "source": [
        "preprocess(training_json,'/content/drive/MyDrive/dataset/train/')"
      ],
      "metadata": {
        "id": "CoHAT8rNBM2B"
      },
      "execution_count": null,
      "outputs": []
    },
    {
      "cell_type": "code",
      "source": [
        "with open('/content/drive/MyDrive/dataset/sentihood-dev.json', 'r') as f:\n",
        "    validation_json = json.load(f)\n",
        "\n",
        "preprocess(validation_json,'/content/drive/MyDrive/dataset/dev/')"
      ],
      "metadata": {
        "id": "cBbvySIuBONF"
      },
      "execution_count": null,
      "outputs": []
    },
    {
      "cell_type": "code",
      "source": [
        "with open('/content/drive/MyDrive/dataset/sentihood-test.json', 'r') as f:\n",
        "    testing_json = json.load(f)\n",
        "\n",
        "preprocess(testing_json,'/content/drive/MyDrive/dataset/test/')"
      ],
      "metadata": {
        "id": "ZgIogluuBPtr"
      },
      "execution_count": null,
      "outputs": []
    }
  ]
}